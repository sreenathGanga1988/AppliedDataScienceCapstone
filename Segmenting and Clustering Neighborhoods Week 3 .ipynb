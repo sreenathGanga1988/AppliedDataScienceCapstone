{
    "cells": [
        {
            "metadata": {},
            "cell_type": "code",
            "source": "",
            "execution_count": null,
            "outputs": []
        },
        {
            "metadata": {},
            "cell_type": "markdown",
            "source": "<h1 align=center><font size = 10>Segmenting and Clustering Neighborhoods in Toronto Part 1</font></h1>"
        },
        {
            "metadata": {},
            "cell_type": "markdown",
            "source": "<h1>Problem 1 </h1>"
        },
        {
            "metadata": {},
            "cell_type": "markdown",
            "source": "Import Libraries"
        },
        {
            "metadata": {},
            "cell_type": "code",
            "source": "\nimport pandas as pd\nimport numpy as np\nimport requests\nfrom bs4 import BeautifulSoup\nimport os\nfrom sklearn.cluster import KMeans\nfrom geopy.geocoders import Nominatim \nimport matplotlib.cm as cm\nimport matplotlib.colors as colors\nprint('Libraries imported.')",
            "execution_count": 1,
            "outputs": [
                {
                    "output_type": "stream",
                    "text": "Libraries imported.\n",
                    "name": "stdout"
                }
            ]
        },
        {
            "metadata": {},
            "cell_type": "markdown",
            "source": "Uses Pandas to read data from wiki and save it to dataframe"
        },
        {
            "metadata": {},
            "cell_type": "code",
            "source": "tables = pd.read_html('https://en.wikipedia.org/wiki/List_of_postal_codes_of_Canada:_M')\ncanada = tables[0]",
            "execution_count": 2,
            "outputs": []
        },
        {
            "metadata": {},
            "cell_type": "markdown",
            "source": ""
        },
        {
            "metadata": {},
            "cell_type": "code",
            "source": "#Drop data with Boroough is not assigned Also assign Neighbourhood column with borough when not assigned\ncanada = canada.drop(canada[(canada.Borough == \"Not assigned\")].index)\ncanada['Neighborhood'].loc[canada['Neighborhood'] == 'Not assigned'] =  canada.Borough",
            "execution_count": 3,
            "outputs": []
        },
        {
            "metadata": {},
            "cell_type": "code",
            "source": "canada.shape\ncanada",
            "execution_count": 6,
            "outputs": [
                {
                    "output_type": "execute_result",
                    "execution_count": 6,
                    "data": {
                        "text/plain": "    Post Code           Borough  \\\n2         M3A        North York   \n3         M4A        North York   \n4         M5A  Downtown Toronto   \n5         M6A        North York   \n6         M7A  Downtown Toronto   \n8         M9A         Etobicoke   \n9         M1B       Scarborough   \n11        M3B        North York   \n12        M4B         East York   \n13        M5B  Downtown Toronto   \n14        M6B        North York   \n17        M9B         Etobicoke   \n18        M1C       Scarborough   \n20        M3C        North York   \n21        M4C         East York   \n22        M5C  Downtown Toronto   \n23        M6C              York   \n26        M9C         Etobicoke   \n27        M1E       Scarborough   \n30        M4E      East Toronto   \n31        M5E  Downtown Toronto   \n32        M6E              York   \n36        M1G       Scarborough   \n39        M4G         East York   \n40        M5G  Downtown Toronto   \n41        M6G  Downtown Toronto   \n45        M1H       Scarborough   \n46        M2H        North York   \n47        M3H        North York   \n48        M4H         East York   \n..        ...               ...   \n111       M4R   Central Toronto   \n112       M5R   Central Toronto   \n113       M6R      West Toronto   \n114       M7R       Mississauga   \n116       M9R         Etobicoke   \n117       M1S       Scarborough   \n120       M4S   Central Toronto   \n121       M5S  Downtown Toronto   \n122       M6S      West Toronto   \n126       M1T       Scarborough   \n129       M4T   Central Toronto   \n130       M5T  Downtown Toronto   \n135       M1V       Scarborough   \n138       M4V   Central Toronto   \n139       M5V  Downtown Toronto   \n142       M8V         Etobicoke   \n143       M9V         Etobicoke   \n144       M1W       Scarborough   \n147       M4W  Downtown Toronto   \n148       M5W  Downtown Toronto   \n151       M8W         Etobicoke   \n152       M9W         Etobicoke   \n153       M1X       Scarborough   \n156       M4X  Downtown Toronto   \n157       M5X  Downtown Toronto   \n160       M8X         Etobicoke   \n165       M4Y  Downtown Toronto   \n168       M7Y      East Toronto   \n169       M8Y         Etobicoke   \n178       M8Z         Etobicoke   \n\n                                          Neighborhood  \n2                                            Parkwoods  \n3                                     Victoria Village  \n4                            Regent Park, Harbourfront  \n5                     Lawrence Manor, Lawrence Heights  \n6          Queen's Park, Ontario Provincial Government  \n8              Islington Avenue, Humber Valley Village  \n9                                       Malvern, Rouge  \n11                                           Don Mills  \n12                     Parkview Hill, Woodbine Gardens  \n13                            Garden District, Ryerson  \n14                                           Glencairn  \n17   West Deane Park, Princess Gardens, Martin Grov...  \n18              Rouge Hill, Port Union, Highland Creek  \n20                                           Don Mills  \n21                                    Woodbine Heights  \n22                                      St. James Town  \n23                                  Humewood-Cedarvale  \n26   Eringate, Bloordale Gardens, Old Burnhamthorpe...  \n27                   Guildwood, Morningside, West Hill  \n30                                         The Beaches  \n31                                         Berczy Park  \n32                                 Caledonia-Fairbanks  \n36                                              Woburn  \n39                                             Leaside  \n40                                  Central Bay Street  \n41                                            Christie  \n45                                           Cedarbrae  \n46                                   Hillcrest Village  \n47     Bathurst Manor, Wilson Heights, Downsview North  \n48                                    Thorncliffe Park  \n..                                                 ...  \n111                  North Toronto West, Lawrence Park  \n112                The Annex, North Midtown, Yorkville  \n113                             Parkdale, Roncesvalles  \n114              Canada Post Gateway Processing Centre  \n116  Kingsview Village, St. Phillips, Martin Grove ...  \n117                                          Agincourt  \n120                                         Davisville  \n121                     University of Toronto, Harbord  \n122                                 Runnymede, Swansea  \n126            Clarks Corners, Tam O'Shanter, Sullivan  \n129                        Moore Park, Summerhill East  \n130          Kensington Market, Chinatown, Grange Park  \n135  Milliken, Agincourt North, Steeles East, L'Amo...  \n138  Summerhill West, Rathnelly, South Hill, Forest...  \n139  CN Tower, King and Spadina, Railway Lands, Har...  \n142       New Toronto, Mimico South, Humber Bay Shores  \n143  South Steeles, Silverstone, Humbergate, Jamest...  \n144                      Steeles West, L'Amoreaux West  \n147                                           Rosedale  \n148                                     Stn A PO Boxes  \n151                             Alderwood, Long Branch  \n152                Northwest, West Humber - Clairville  \n153                                        Upper Rouge  \n156                        St. James Town, Cabbagetown  \n157             First Canadian Place, Underground city  \n160      The Kingsway, Montgomery Road, Old Mill North  \n165                               Church and Wellesley  \n168  Business reply mail Processing Centre, South C...  \n169  Old Mill South, King's Mill Park, Sunnylea, Hu...  \n178  Mimico NW, The Queensway West, South of Bloor,...  \n\n[103 rows x 3 columns]",
                        "text/html": "<div>\n<style scoped>\n    .dataframe tbody tr th:only-of-type {\n        vertical-align: middle;\n    }\n\n    .dataframe tbody tr th {\n        vertical-align: top;\n    }\n\n    .dataframe thead th {\n        text-align: right;\n    }\n</style>\n<table border=\"1\" class=\"dataframe\">\n  <thead>\n    <tr style=\"text-align: right;\">\n      <th></th>\n      <th>Post Code</th>\n      <th>Borough</th>\n      <th>Neighborhood</th>\n    </tr>\n  </thead>\n  <tbody>\n    <tr>\n      <th>2</th>\n      <td>M3A</td>\n      <td>North York</td>\n      <td>Parkwoods</td>\n    </tr>\n    <tr>\n      <th>3</th>\n      <td>M4A</td>\n      <td>North York</td>\n      <td>Victoria Village</td>\n    </tr>\n    <tr>\n      <th>4</th>\n      <td>M5A</td>\n      <td>Downtown Toronto</td>\n      <td>Regent Park, Harbourfront</td>\n    </tr>\n    <tr>\n      <th>5</th>\n      <td>M6A</td>\n      <td>North York</td>\n      <td>Lawrence Manor, Lawrence Heights</td>\n    </tr>\n    <tr>\n      <th>6</th>\n      <td>M7A</td>\n      <td>Downtown Toronto</td>\n      <td>Queen's Park, Ontario Provincial Government</td>\n    </tr>\n    <tr>\n      <th>8</th>\n      <td>M9A</td>\n      <td>Etobicoke</td>\n      <td>Islington Avenue, Humber Valley Village</td>\n    </tr>\n    <tr>\n      <th>9</th>\n      <td>M1B</td>\n      <td>Scarborough</td>\n      <td>Malvern, Rouge</td>\n    </tr>\n    <tr>\n      <th>11</th>\n      <td>M3B</td>\n      <td>North York</td>\n      <td>Don Mills</td>\n    </tr>\n    <tr>\n      <th>12</th>\n      <td>M4B</td>\n      <td>East York</td>\n      <td>Parkview Hill, Woodbine Gardens</td>\n    </tr>\n    <tr>\n      <th>13</th>\n      <td>M5B</td>\n      <td>Downtown Toronto</td>\n      <td>Garden District, Ryerson</td>\n    </tr>\n    <tr>\n      <th>14</th>\n      <td>M6B</td>\n      <td>North York</td>\n      <td>Glencairn</td>\n    </tr>\n    <tr>\n      <th>17</th>\n      <td>M9B</td>\n      <td>Etobicoke</td>\n      <td>West Deane Park, Princess Gardens, Martin Grov...</td>\n    </tr>\n    <tr>\n      <th>18</th>\n      <td>M1C</td>\n      <td>Scarborough</td>\n      <td>Rouge Hill, Port Union, Highland Creek</td>\n    </tr>\n    <tr>\n      <th>20</th>\n      <td>M3C</td>\n      <td>North York</td>\n      <td>Don Mills</td>\n    </tr>\n    <tr>\n      <th>21</th>\n      <td>M4C</td>\n      <td>East York</td>\n      <td>Woodbine Heights</td>\n    </tr>\n    <tr>\n      <th>22</th>\n      <td>M5C</td>\n      <td>Downtown Toronto</td>\n      <td>St. James Town</td>\n    </tr>\n    <tr>\n      <th>23</th>\n      <td>M6C</td>\n      <td>York</td>\n      <td>Humewood-Cedarvale</td>\n    </tr>\n    <tr>\n      <th>26</th>\n      <td>M9C</td>\n      <td>Etobicoke</td>\n      <td>Eringate, Bloordale Gardens, Old Burnhamthorpe...</td>\n    </tr>\n    <tr>\n      <th>27</th>\n      <td>M1E</td>\n      <td>Scarborough</td>\n      <td>Guildwood, Morningside, West Hill</td>\n    </tr>\n    <tr>\n      <th>30</th>\n      <td>M4E</td>\n      <td>East Toronto</td>\n      <td>The Beaches</td>\n    </tr>\n    <tr>\n      <th>31</th>\n      <td>M5E</td>\n      <td>Downtown Toronto</td>\n      <td>Berczy Park</td>\n    </tr>\n    <tr>\n      <th>32</th>\n      <td>M6E</td>\n      <td>York</td>\n      <td>Caledonia-Fairbanks</td>\n    </tr>\n    <tr>\n      <th>36</th>\n      <td>M1G</td>\n      <td>Scarborough</td>\n      <td>Woburn</td>\n    </tr>\n    <tr>\n      <th>39</th>\n      <td>M4G</td>\n      <td>East York</td>\n      <td>Leaside</td>\n    </tr>\n    <tr>\n      <th>40</th>\n      <td>M5G</td>\n      <td>Downtown Toronto</td>\n      <td>Central Bay Street</td>\n    </tr>\n    <tr>\n      <th>41</th>\n      <td>M6G</td>\n      <td>Downtown Toronto</td>\n      <td>Christie</td>\n    </tr>\n    <tr>\n      <th>45</th>\n      <td>M1H</td>\n      <td>Scarborough</td>\n      <td>Cedarbrae</td>\n    </tr>\n    <tr>\n      <th>46</th>\n      <td>M2H</td>\n      <td>North York</td>\n      <td>Hillcrest Village</td>\n    </tr>\n    <tr>\n      <th>47</th>\n      <td>M3H</td>\n      <td>North York</td>\n      <td>Bathurst Manor, Wilson Heights, Downsview North</td>\n    </tr>\n    <tr>\n      <th>48</th>\n      <td>M4H</td>\n      <td>East York</td>\n      <td>Thorncliffe Park</td>\n    </tr>\n    <tr>\n      <th>...</th>\n      <td>...</td>\n      <td>...</td>\n      <td>...</td>\n    </tr>\n    <tr>\n      <th>111</th>\n      <td>M4R</td>\n      <td>Central Toronto</td>\n      <td>North Toronto West, Lawrence Park</td>\n    </tr>\n    <tr>\n      <th>112</th>\n      <td>M5R</td>\n      <td>Central Toronto</td>\n      <td>The Annex, North Midtown, Yorkville</td>\n    </tr>\n    <tr>\n      <th>113</th>\n      <td>M6R</td>\n      <td>West Toronto</td>\n      <td>Parkdale, Roncesvalles</td>\n    </tr>\n    <tr>\n      <th>114</th>\n      <td>M7R</td>\n      <td>Mississauga</td>\n      <td>Canada Post Gateway Processing Centre</td>\n    </tr>\n    <tr>\n      <th>116</th>\n      <td>M9R</td>\n      <td>Etobicoke</td>\n      <td>Kingsview Village, St. Phillips, Martin Grove ...</td>\n    </tr>\n    <tr>\n      <th>117</th>\n      <td>M1S</td>\n      <td>Scarborough</td>\n      <td>Agincourt</td>\n    </tr>\n    <tr>\n      <th>120</th>\n      <td>M4S</td>\n      <td>Central Toronto</td>\n      <td>Davisville</td>\n    </tr>\n    <tr>\n      <th>121</th>\n      <td>M5S</td>\n      <td>Downtown Toronto</td>\n      <td>University of Toronto, Harbord</td>\n    </tr>\n    <tr>\n      <th>122</th>\n      <td>M6S</td>\n      <td>West Toronto</td>\n      <td>Runnymede, Swansea</td>\n    </tr>\n    <tr>\n      <th>126</th>\n      <td>M1T</td>\n      <td>Scarborough</td>\n      <td>Clarks Corners, Tam O'Shanter, Sullivan</td>\n    </tr>\n    <tr>\n      <th>129</th>\n      <td>M4T</td>\n      <td>Central Toronto</td>\n      <td>Moore Park, Summerhill East</td>\n    </tr>\n    <tr>\n      <th>130</th>\n      <td>M5T</td>\n      <td>Downtown Toronto</td>\n      <td>Kensington Market, Chinatown, Grange Park</td>\n    </tr>\n    <tr>\n      <th>135</th>\n      <td>M1V</td>\n      <td>Scarborough</td>\n      <td>Milliken, Agincourt North, Steeles East, L'Amo...</td>\n    </tr>\n    <tr>\n      <th>138</th>\n      <td>M4V</td>\n      <td>Central Toronto</td>\n      <td>Summerhill West, Rathnelly, South Hill, Forest...</td>\n    </tr>\n    <tr>\n      <th>139</th>\n      <td>M5V</td>\n      <td>Downtown Toronto</td>\n      <td>CN Tower, King and Spadina, Railway Lands, Har...</td>\n    </tr>\n    <tr>\n      <th>142</th>\n      <td>M8V</td>\n      <td>Etobicoke</td>\n      <td>New Toronto, Mimico South, Humber Bay Shores</td>\n    </tr>\n    <tr>\n      <th>143</th>\n      <td>M9V</td>\n      <td>Etobicoke</td>\n      <td>South Steeles, Silverstone, Humbergate, Jamest...</td>\n    </tr>\n    <tr>\n      <th>144</th>\n      <td>M1W</td>\n      <td>Scarborough</td>\n      <td>Steeles West, L'Amoreaux West</td>\n    </tr>\n    <tr>\n      <th>147</th>\n      <td>M4W</td>\n      <td>Downtown Toronto</td>\n      <td>Rosedale</td>\n    </tr>\n    <tr>\n      <th>148</th>\n      <td>M5W</td>\n      <td>Downtown Toronto</td>\n      <td>Stn A PO Boxes</td>\n    </tr>\n    <tr>\n      <th>151</th>\n      <td>M8W</td>\n      <td>Etobicoke</td>\n      <td>Alderwood, Long Branch</td>\n    </tr>\n    <tr>\n      <th>152</th>\n      <td>M9W</td>\n      <td>Etobicoke</td>\n      <td>Northwest, West Humber - Clairville</td>\n    </tr>\n    <tr>\n      <th>153</th>\n      <td>M1X</td>\n      <td>Scarborough</td>\n      <td>Upper Rouge</td>\n    </tr>\n    <tr>\n      <th>156</th>\n      <td>M4X</td>\n      <td>Downtown Toronto</td>\n      <td>St. James Town, Cabbagetown</td>\n    </tr>\n    <tr>\n      <th>157</th>\n      <td>M5X</td>\n      <td>Downtown Toronto</td>\n      <td>First Canadian Place, Underground city</td>\n    </tr>\n    <tr>\n      <th>160</th>\n      <td>M8X</td>\n      <td>Etobicoke</td>\n      <td>The Kingsway, Montgomery Road, Old Mill North</td>\n    </tr>\n    <tr>\n      <th>165</th>\n      <td>M4Y</td>\n      <td>Downtown Toronto</td>\n      <td>Church and Wellesley</td>\n    </tr>\n    <tr>\n      <th>168</th>\n      <td>M7Y</td>\n      <td>East Toronto</td>\n      <td>Business reply mail Processing Centre, South C...</td>\n    </tr>\n    <tr>\n      <th>169</th>\n      <td>M8Y</td>\n      <td>Etobicoke</td>\n      <td>Old Mill South, King's Mill Park, Sunnylea, Hu...</td>\n    </tr>\n    <tr>\n      <th>178</th>\n      <td>M8Z</td>\n      <td>Etobicoke</td>\n      <td>Mimico NW, The Queensway West, South of Bloor,...</td>\n    </tr>\n  </tbody>\n</table>\n<p>103 rows \u00d7 3 columns</p>\n</div>"
                    },
                    "metadata": {}
                }
            ]
        },
        {
            "metadata": {},
            "cell_type": "code",
            "source": "temp_df=canada.groupby('Post Code')['Neighborhood'].apply(lambda x: \"%s\" % ', '.join(x))\ntemp_df=temp_df.reset_index(drop=False)\ntemp_df.rename(columns={'Neighborhood':'Neighborhood_joined'},inplace=True)\n",
            "execution_count": 7,
            "outputs": []
        },
        {
            "metadata": {},
            "cell_type": "code",
            "source": "df_merge = pd.merge(canada, temp_df, on='Post Code')",
            "execution_count": 9,
            "outputs": []
        },
        {
            "metadata": {},
            "cell_type": "code",
            "source": "df_merge.drop(['Neighborhood'],axis=1,inplace=True)",
            "execution_count": 10,
            "outputs": []
        },
        {
            "metadata": {},
            "cell_type": "code",
            "source": "df_merge.drop_duplicates(inplace=True)",
            "execution_count": 11,
            "outputs": []
        },
        {
            "metadata": {},
            "cell_type": "code",
            "source": "df_merge.rename(columns={'Neighborhood_joined':'Neighborhood'},inplace=True)",
            "execution_count": 12,
            "outputs": []
        },
        {
            "metadata": {},
            "cell_type": "code",
            "source": "df_merge.head()",
            "execution_count": 13,
            "outputs": [
                {
                    "output_type": "execute_result",
                    "execution_count": 13,
                    "data": {
                        "text/plain": "  Post Code           Borough                                 Neighborhood\n0       M3A        North York                                    Parkwoods\n1       M4A        North York                             Victoria Village\n2       M5A  Downtown Toronto                    Regent Park, Harbourfront\n3       M6A        North York             Lawrence Manor, Lawrence Heights\n4       M7A  Downtown Toronto  Queen's Park, Ontario Provincial Government",
                        "text/html": "<div>\n<style scoped>\n    .dataframe tbody tr th:only-of-type {\n        vertical-align: middle;\n    }\n\n    .dataframe tbody tr th {\n        vertical-align: top;\n    }\n\n    .dataframe thead th {\n        text-align: right;\n    }\n</style>\n<table border=\"1\" class=\"dataframe\">\n  <thead>\n    <tr style=\"text-align: right;\">\n      <th></th>\n      <th>Post Code</th>\n      <th>Borough</th>\n      <th>Neighborhood</th>\n    </tr>\n  </thead>\n  <tbody>\n    <tr>\n      <th>0</th>\n      <td>M3A</td>\n      <td>North York</td>\n      <td>Parkwoods</td>\n    </tr>\n    <tr>\n      <th>1</th>\n      <td>M4A</td>\n      <td>North York</td>\n      <td>Victoria Village</td>\n    </tr>\n    <tr>\n      <th>2</th>\n      <td>M5A</td>\n      <td>Downtown Toronto</td>\n      <td>Regent Park, Harbourfront</td>\n    </tr>\n    <tr>\n      <th>3</th>\n      <td>M6A</td>\n      <td>North York</td>\n      <td>Lawrence Manor, Lawrence Heights</td>\n    </tr>\n    <tr>\n      <th>4</th>\n      <td>M7A</td>\n      <td>Downtown Toronto</td>\n      <td>Queen's Park, Ontario Provincial Government</td>\n    </tr>\n  </tbody>\n</table>\n</div>"
                    },
                    "metadata": {}
                }
            ]
        },
        {
            "metadata": {},
            "cell_type": "code",
            "source": "df_merge.shape",
            "execution_count": 90,
            "outputs": [
                {
                    "output_type": "execute_result",
                    "execution_count": 90,
                    "data": {
                        "text/plain": "(103, 4)"
                    },
                    "metadata": {}
                }
            ]
        },
        {
            "metadata": {},
            "cell_type": "markdown",
            "source": "<h1>Problem 2 </h1>"
        },
        {
            "metadata": {},
            "cell_type": "code",
            "source": "def get_geocode(postal_code):\n    # initialize your variable to None\n    lat_lng_coords = None\n    while(lat_lng_coords is None):\n        g = geocoder.google('{}, Toronto, Ontario'.format(postal_code))\n        lat_lng_coords = g.latlng\n    latitude = lat_lng_coords[0]\n    longitude = lat_lng_coords[1]\n    return latitude,longitude",
            "execution_count": 96,
            "outputs": []
        },
        {
            "metadata": {},
            "cell_type": "code",
            "source": "geo_df=pd.read_csv('http://cocl.us/Geospatial_data')",
            "execution_count": 26,
            "outputs": []
        },
        {
            "metadata": {},
            "cell_type": "code",
            "source": "\ngeo_df.rename(columns={'Postal Code':'Post Code'},inplace=True)\ngeo_df.head()",
            "execution_count": 27,
            "outputs": [
                {
                    "output_type": "execute_result",
                    "execution_count": 27,
                    "data": {
                        "text/plain": "  Post Code   Latitude  Longitude\n0       M1B  43.806686 -79.194353\n1       M1C  43.784535 -79.160497\n2       M1E  43.763573 -79.188711\n3       M1G  43.770992 -79.216917\n4       M1H  43.773136 -79.239476",
                        "text/html": "<div>\n<style scoped>\n    .dataframe tbody tr th:only-of-type {\n        vertical-align: middle;\n    }\n\n    .dataframe tbody tr th {\n        vertical-align: top;\n    }\n\n    .dataframe thead th {\n        text-align: right;\n    }\n</style>\n<table border=\"1\" class=\"dataframe\">\n  <thead>\n    <tr style=\"text-align: right;\">\n      <th></th>\n      <th>Post Code</th>\n      <th>Latitude</th>\n      <th>Longitude</th>\n    </tr>\n  </thead>\n  <tbody>\n    <tr>\n      <th>0</th>\n      <td>M1B</td>\n      <td>43.806686</td>\n      <td>-79.194353</td>\n    </tr>\n    <tr>\n      <th>1</th>\n      <td>M1C</td>\n      <td>43.784535</td>\n      <td>-79.160497</td>\n    </tr>\n    <tr>\n      <th>2</th>\n      <td>M1E</td>\n      <td>43.763573</td>\n      <td>-79.188711</td>\n    </tr>\n    <tr>\n      <th>3</th>\n      <td>M1G</td>\n      <td>43.770992</td>\n      <td>-79.216917</td>\n    </tr>\n    <tr>\n      <th>4</th>\n      <td>M1H</td>\n      <td>43.773136</td>\n      <td>-79.239476</td>\n    </tr>\n  </tbody>\n</table>\n</div>"
                    },
                    "metadata": {}
                }
            ]
        },
        {
            "metadata": {},
            "cell_type": "code",
            "source": "geo_merged = pd.merge(geo_df, df_merge, on='Post Code')",
            "execution_count": 29,
            "outputs": []
        },
        {
            "metadata": {},
            "cell_type": "code",
            "source": "geo_merged",
            "execution_count": 30,
            "outputs": [
                {
                    "output_type": "execute_result",
                    "execution_count": 30,
                    "data": {
                        "text/plain": "    Post Code   Latitude  Longitude           Borough  \\\n0         M1B  43.806686 -79.194353       Scarborough   \n1         M1C  43.784535 -79.160497       Scarborough   \n2         M1E  43.763573 -79.188711       Scarborough   \n3         M1G  43.770992 -79.216917       Scarborough   \n4         M1H  43.773136 -79.239476       Scarborough   \n5         M1J  43.744734 -79.239476       Scarborough   \n6         M1K  43.727929 -79.262029       Scarborough   \n7         M1L  43.711112 -79.284577       Scarborough   \n8         M1M  43.716316 -79.239476       Scarborough   \n9         M1N  43.692657 -79.264848       Scarborough   \n10        M1P  43.757410 -79.273304       Scarborough   \n11        M1R  43.750072 -79.295849       Scarborough   \n12        M1S  43.794200 -79.262029       Scarborough   \n13        M1T  43.781638 -79.304302       Scarborough   \n14        M1V  43.815252 -79.284577       Scarborough   \n15        M1W  43.799525 -79.318389       Scarborough   \n16        M1X  43.836125 -79.205636       Scarborough   \n17        M2H  43.803762 -79.363452        North York   \n18        M2J  43.778517 -79.346556        North York   \n19        M2K  43.786947 -79.385975        North York   \n20        M2L  43.757490 -79.374714        North York   \n21        M2M  43.789053 -79.408493        North York   \n22        M2N  43.770120 -79.408493        North York   \n23        M2P  43.752758 -79.400049        North York   \n24        M2R  43.782736 -79.442259        North York   \n25        M3A  43.753259 -79.329656        North York   \n26        M3B  43.745906 -79.352188        North York   \n27        M3C  43.725900 -79.340923        North York   \n28        M3H  43.754328 -79.442259        North York   \n29        M3J  43.767980 -79.487262        North York   \n..        ...        ...        ...               ...   \n73        M6C  43.693781 -79.428191              York   \n74        M6E  43.689026 -79.453512              York   \n75        M6G  43.669542 -79.422564  Downtown Toronto   \n76        M6H  43.669005 -79.442259      West Toronto   \n77        M6J  43.647927 -79.419750      West Toronto   \n78        M6K  43.636847 -79.428191      West Toronto   \n79        M6L  43.713756 -79.490074        North York   \n80        M6M  43.691116 -79.476013              York   \n81        M6N  43.673185 -79.487262              York   \n82        M6P  43.661608 -79.464763      West Toronto   \n83        M6R  43.648960 -79.456325      West Toronto   \n84        M6S  43.651571 -79.484450      West Toronto   \n85        M7A  43.662301 -79.389494  Downtown Toronto   \n86        M7R  43.636966 -79.615819       Mississauga   \n87        M7Y  43.662744 -79.321558      East Toronto   \n88        M8V  43.605647 -79.501321         Etobicoke   \n89        M8W  43.602414 -79.543484         Etobicoke   \n90        M8X  43.653654 -79.506944         Etobicoke   \n91        M8Y  43.636258 -79.498509         Etobicoke   \n92        M8Z  43.628841 -79.520999         Etobicoke   \n93        M9A  43.667856 -79.532242         Etobicoke   \n94        M9B  43.650943 -79.554724         Etobicoke   \n95        M9C  43.643515 -79.577201         Etobicoke   \n96        M9L  43.756303 -79.565963        North York   \n97        M9M  43.724766 -79.532242        North York   \n98        M9N  43.706876 -79.518188              York   \n99        M9P  43.696319 -79.532242         Etobicoke   \n100       M9R  43.688905 -79.554724         Etobicoke   \n101       M9V  43.739416 -79.588437         Etobicoke   \n102       M9W  43.706748 -79.594054         Etobicoke   \n\n                                          Neighborhood  \n0                                       Malvern, Rouge  \n1               Rouge Hill, Port Union, Highland Creek  \n2                    Guildwood, Morningside, West Hill  \n3                                               Woburn  \n4                                            Cedarbrae  \n5                                  Scarborough Village  \n6          Kennedy Park, Ionview, East Birchmount Park  \n7                      Golden Mile, Clairlea, Oakridge  \n8      Cliffside, Cliffcrest, Scarborough Village West  \n9                          Birch Cliff, Cliffside West  \n10   Dorset Park, Wexford Heights, Scarborough Town...  \n11                                   Wexford, Maryvale  \n12                                           Agincourt  \n13             Clarks Corners, Tam O'Shanter, Sullivan  \n14   Milliken, Agincourt North, Steeles East, L'Amo...  \n15                       Steeles West, L'Amoreaux West  \n16                                         Upper Rouge  \n17                                   Hillcrest Village  \n18                        Fairview, Henry Farm, Oriole  \n19                                     Bayview Village  \n20                            York Mills, Silver Hills  \n21                             Willowdale, Newtonbrook  \n22                         Willowdale, Willowdale East  \n23                                     York Mills West  \n24                         Willowdale, Willowdale West  \n25                                           Parkwoods  \n26                                           Don Mills  \n27                                           Don Mills  \n28     Bathurst Manor, Wilson Heights, Downsview North  \n29                     Northwood Park, York University  \n..                                                 ...  \n73                                  Humewood-Cedarvale  \n74                                 Caledonia-Fairbanks  \n75                                            Christie  \n76                        Dufferin, Dovercourt Village  \n77                            Little Portugal, Trinity  \n78        Brockton, Parkdale Village, Exhibition Place  \n79            North Park, Maple Leaf Park, Upwood Park  \n80    Del Ray, Mount Dennis, Keelsdale and Silverthorn  \n81                       Runnymede, The Junction North  \n82                       High Park, The Junction South  \n83                              Parkdale, Roncesvalles  \n84                                  Runnymede, Swansea  \n85         Queen's Park, Ontario Provincial Government  \n86               Canada Post Gateway Processing Centre  \n87   Business reply mail Processing Centre, South C...  \n88        New Toronto, Mimico South, Humber Bay Shores  \n89                              Alderwood, Long Branch  \n90       The Kingsway, Montgomery Road, Old Mill North  \n91   Old Mill South, King's Mill Park, Sunnylea, Hu...  \n92   Mimico NW, The Queensway West, South of Bloor,...  \n93             Islington Avenue, Humber Valley Village  \n94   West Deane Park, Princess Gardens, Martin Grov...  \n95   Eringate, Bloordale Gardens, Old Burnhamthorpe...  \n96                                       Humber Summit  \n97                                    Humberlea, Emery  \n98                                              Weston  \n99                                           Westmount  \n100  Kingsview Village, St. Phillips, Martin Grove ...  \n101  South Steeles, Silverstone, Humbergate, Jamest...  \n102                Northwest, West Humber - Clairville  \n\n[103 rows x 5 columns]",
                        "text/html": "<div>\n<style scoped>\n    .dataframe tbody tr th:only-of-type {\n        vertical-align: middle;\n    }\n\n    .dataframe tbody tr th {\n        vertical-align: top;\n    }\n\n    .dataframe thead th {\n        text-align: right;\n    }\n</style>\n<table border=\"1\" class=\"dataframe\">\n  <thead>\n    <tr style=\"text-align: right;\">\n      <th></th>\n      <th>Post Code</th>\n      <th>Latitude</th>\n      <th>Longitude</th>\n      <th>Borough</th>\n      <th>Neighborhood</th>\n    </tr>\n  </thead>\n  <tbody>\n    <tr>\n      <th>0</th>\n      <td>M1B</td>\n      <td>43.806686</td>\n      <td>-79.194353</td>\n      <td>Scarborough</td>\n      <td>Malvern, Rouge</td>\n    </tr>\n    <tr>\n      <th>1</th>\n      <td>M1C</td>\n      <td>43.784535</td>\n      <td>-79.160497</td>\n      <td>Scarborough</td>\n      <td>Rouge Hill, Port Union, Highland Creek</td>\n    </tr>\n    <tr>\n      <th>2</th>\n      <td>M1E</td>\n      <td>43.763573</td>\n      <td>-79.188711</td>\n      <td>Scarborough</td>\n      <td>Guildwood, Morningside, West Hill</td>\n    </tr>\n    <tr>\n      <th>3</th>\n      <td>M1G</td>\n      <td>43.770992</td>\n      <td>-79.216917</td>\n      <td>Scarborough</td>\n      <td>Woburn</td>\n    </tr>\n    <tr>\n      <th>4</th>\n      <td>M1H</td>\n      <td>43.773136</td>\n      <td>-79.239476</td>\n      <td>Scarborough</td>\n      <td>Cedarbrae</td>\n    </tr>\n    <tr>\n      <th>5</th>\n      <td>M1J</td>\n      <td>43.744734</td>\n      <td>-79.239476</td>\n      <td>Scarborough</td>\n      <td>Scarborough Village</td>\n    </tr>\n    <tr>\n      <th>6</th>\n      <td>M1K</td>\n      <td>43.727929</td>\n      <td>-79.262029</td>\n      <td>Scarborough</td>\n      <td>Kennedy Park, Ionview, East Birchmount Park</td>\n    </tr>\n    <tr>\n      <th>7</th>\n      <td>M1L</td>\n      <td>43.711112</td>\n      <td>-79.284577</td>\n      <td>Scarborough</td>\n      <td>Golden Mile, Clairlea, Oakridge</td>\n    </tr>\n    <tr>\n      <th>8</th>\n      <td>M1M</td>\n      <td>43.716316</td>\n      <td>-79.239476</td>\n      <td>Scarborough</td>\n      <td>Cliffside, Cliffcrest, Scarborough Village West</td>\n    </tr>\n    <tr>\n      <th>9</th>\n      <td>M1N</td>\n      <td>43.692657</td>\n      <td>-79.264848</td>\n      <td>Scarborough</td>\n      <td>Birch Cliff, Cliffside West</td>\n    </tr>\n    <tr>\n      <th>10</th>\n      <td>M1P</td>\n      <td>43.757410</td>\n      <td>-79.273304</td>\n      <td>Scarborough</td>\n      <td>Dorset Park, Wexford Heights, Scarborough Town...</td>\n    </tr>\n    <tr>\n      <th>11</th>\n      <td>M1R</td>\n      <td>43.750072</td>\n      <td>-79.295849</td>\n      <td>Scarborough</td>\n      <td>Wexford, Maryvale</td>\n    </tr>\n    <tr>\n      <th>12</th>\n      <td>M1S</td>\n      <td>43.794200</td>\n      <td>-79.262029</td>\n      <td>Scarborough</td>\n      <td>Agincourt</td>\n    </tr>\n    <tr>\n      <th>13</th>\n      <td>M1T</td>\n      <td>43.781638</td>\n      <td>-79.304302</td>\n      <td>Scarborough</td>\n      <td>Clarks Corners, Tam O'Shanter, Sullivan</td>\n    </tr>\n    <tr>\n      <th>14</th>\n      <td>M1V</td>\n      <td>43.815252</td>\n      <td>-79.284577</td>\n      <td>Scarborough</td>\n      <td>Milliken, Agincourt North, Steeles East, L'Amo...</td>\n    </tr>\n    <tr>\n      <th>15</th>\n      <td>M1W</td>\n      <td>43.799525</td>\n      <td>-79.318389</td>\n      <td>Scarborough</td>\n      <td>Steeles West, L'Amoreaux West</td>\n    </tr>\n    <tr>\n      <th>16</th>\n      <td>M1X</td>\n      <td>43.836125</td>\n      <td>-79.205636</td>\n      <td>Scarborough</td>\n      <td>Upper Rouge</td>\n    </tr>\n    <tr>\n      <th>17</th>\n      <td>M2H</td>\n      <td>43.803762</td>\n      <td>-79.363452</td>\n      <td>North York</td>\n      <td>Hillcrest Village</td>\n    </tr>\n    <tr>\n      <th>18</th>\n      <td>M2J</td>\n      <td>43.778517</td>\n      <td>-79.346556</td>\n      <td>North York</td>\n      <td>Fairview, Henry Farm, Oriole</td>\n    </tr>\n    <tr>\n      <th>19</th>\n      <td>M2K</td>\n      <td>43.786947</td>\n      <td>-79.385975</td>\n      <td>North York</td>\n      <td>Bayview Village</td>\n    </tr>\n    <tr>\n      <th>20</th>\n      <td>M2L</td>\n      <td>43.757490</td>\n      <td>-79.374714</td>\n      <td>North York</td>\n      <td>York Mills, Silver Hills</td>\n    </tr>\n    <tr>\n      <th>21</th>\n      <td>M2M</td>\n      <td>43.789053</td>\n      <td>-79.408493</td>\n      <td>North York</td>\n      <td>Willowdale, Newtonbrook</td>\n    </tr>\n    <tr>\n      <th>22</th>\n      <td>M2N</td>\n      <td>43.770120</td>\n      <td>-79.408493</td>\n      <td>North York</td>\n      <td>Willowdale, Willowdale East</td>\n    </tr>\n    <tr>\n      <th>23</th>\n      <td>M2P</td>\n      <td>43.752758</td>\n      <td>-79.400049</td>\n      <td>North York</td>\n      <td>York Mills West</td>\n    </tr>\n    <tr>\n      <th>24</th>\n      <td>M2R</td>\n      <td>43.782736</td>\n      <td>-79.442259</td>\n      <td>North York</td>\n      <td>Willowdale, Willowdale West</td>\n    </tr>\n    <tr>\n      <th>25</th>\n      <td>M3A</td>\n      <td>43.753259</td>\n      <td>-79.329656</td>\n      <td>North York</td>\n      <td>Parkwoods</td>\n    </tr>\n    <tr>\n      <th>26</th>\n      <td>M3B</td>\n      <td>43.745906</td>\n      <td>-79.352188</td>\n      <td>North York</td>\n      <td>Don Mills</td>\n    </tr>\n    <tr>\n      <th>27</th>\n      <td>M3C</td>\n      <td>43.725900</td>\n      <td>-79.340923</td>\n      <td>North York</td>\n      <td>Don Mills</td>\n    </tr>\n    <tr>\n      <th>28</th>\n      <td>M3H</td>\n      <td>43.754328</td>\n      <td>-79.442259</td>\n      <td>North York</td>\n      <td>Bathurst Manor, Wilson Heights, Downsview North</td>\n    </tr>\n    <tr>\n      <th>29</th>\n      <td>M3J</td>\n      <td>43.767980</td>\n      <td>-79.487262</td>\n      <td>North York</td>\n      <td>Northwood Park, York University</td>\n    </tr>\n    <tr>\n      <th>...</th>\n      <td>...</td>\n      <td>...</td>\n      <td>...</td>\n      <td>...</td>\n      <td>...</td>\n    </tr>\n    <tr>\n      <th>73</th>\n      <td>M6C</td>\n      <td>43.693781</td>\n      <td>-79.428191</td>\n      <td>York</td>\n      <td>Humewood-Cedarvale</td>\n    </tr>\n    <tr>\n      <th>74</th>\n      <td>M6E</td>\n      <td>43.689026</td>\n      <td>-79.453512</td>\n      <td>York</td>\n      <td>Caledonia-Fairbanks</td>\n    </tr>\n    <tr>\n      <th>75</th>\n      <td>M6G</td>\n      <td>43.669542</td>\n      <td>-79.422564</td>\n      <td>Downtown Toronto</td>\n      <td>Christie</td>\n    </tr>\n    <tr>\n      <th>76</th>\n      <td>M6H</td>\n      <td>43.669005</td>\n      <td>-79.442259</td>\n      <td>West Toronto</td>\n      <td>Dufferin, Dovercourt Village</td>\n    </tr>\n    <tr>\n      <th>77</th>\n      <td>M6J</td>\n      <td>43.647927</td>\n      <td>-79.419750</td>\n      <td>West Toronto</td>\n      <td>Little Portugal, Trinity</td>\n    </tr>\n    <tr>\n      <th>78</th>\n      <td>M6K</td>\n      <td>43.636847</td>\n      <td>-79.428191</td>\n      <td>West Toronto</td>\n      <td>Brockton, Parkdale Village, Exhibition Place</td>\n    </tr>\n    <tr>\n      <th>79</th>\n      <td>M6L</td>\n      <td>43.713756</td>\n      <td>-79.490074</td>\n      <td>North York</td>\n      <td>North Park, Maple Leaf Park, Upwood Park</td>\n    </tr>\n    <tr>\n      <th>80</th>\n      <td>M6M</td>\n      <td>43.691116</td>\n      <td>-79.476013</td>\n      <td>York</td>\n      <td>Del Ray, Mount Dennis, Keelsdale and Silverthorn</td>\n    </tr>\n    <tr>\n      <th>81</th>\n      <td>M6N</td>\n      <td>43.673185</td>\n      <td>-79.487262</td>\n      <td>York</td>\n      <td>Runnymede, The Junction North</td>\n    </tr>\n    <tr>\n      <th>82</th>\n      <td>M6P</td>\n      <td>43.661608</td>\n      <td>-79.464763</td>\n      <td>West Toronto</td>\n      <td>High Park, The Junction South</td>\n    </tr>\n    <tr>\n      <th>83</th>\n      <td>M6R</td>\n      <td>43.648960</td>\n      <td>-79.456325</td>\n      <td>West Toronto</td>\n      <td>Parkdale, Roncesvalles</td>\n    </tr>\n    <tr>\n      <th>84</th>\n      <td>M6S</td>\n      <td>43.651571</td>\n      <td>-79.484450</td>\n      <td>West Toronto</td>\n      <td>Runnymede, Swansea</td>\n    </tr>\n    <tr>\n      <th>85</th>\n      <td>M7A</td>\n      <td>43.662301</td>\n      <td>-79.389494</td>\n      <td>Downtown Toronto</td>\n      <td>Queen's Park, Ontario Provincial Government</td>\n    </tr>\n    <tr>\n      <th>86</th>\n      <td>M7R</td>\n      <td>43.636966</td>\n      <td>-79.615819</td>\n      <td>Mississauga</td>\n      <td>Canada Post Gateway Processing Centre</td>\n    </tr>\n    <tr>\n      <th>87</th>\n      <td>M7Y</td>\n      <td>43.662744</td>\n      <td>-79.321558</td>\n      <td>East Toronto</td>\n      <td>Business reply mail Processing Centre, South C...</td>\n    </tr>\n    <tr>\n      <th>88</th>\n      <td>M8V</td>\n      <td>43.605647</td>\n      <td>-79.501321</td>\n      <td>Etobicoke</td>\n      <td>New Toronto, Mimico South, Humber Bay Shores</td>\n    </tr>\n    <tr>\n      <th>89</th>\n      <td>M8W</td>\n      <td>43.602414</td>\n      <td>-79.543484</td>\n      <td>Etobicoke</td>\n      <td>Alderwood, Long Branch</td>\n    </tr>\n    <tr>\n      <th>90</th>\n      <td>M8X</td>\n      <td>43.653654</td>\n      <td>-79.506944</td>\n      <td>Etobicoke</td>\n      <td>The Kingsway, Montgomery Road, Old Mill North</td>\n    </tr>\n    <tr>\n      <th>91</th>\n      <td>M8Y</td>\n      <td>43.636258</td>\n      <td>-79.498509</td>\n      <td>Etobicoke</td>\n      <td>Old Mill South, King's Mill Park, Sunnylea, Hu...</td>\n    </tr>\n    <tr>\n      <th>92</th>\n      <td>M8Z</td>\n      <td>43.628841</td>\n      <td>-79.520999</td>\n      <td>Etobicoke</td>\n      <td>Mimico NW, The Queensway West, South of Bloor,...</td>\n    </tr>\n    <tr>\n      <th>93</th>\n      <td>M9A</td>\n      <td>43.667856</td>\n      <td>-79.532242</td>\n      <td>Etobicoke</td>\n      <td>Islington Avenue, Humber Valley Village</td>\n    </tr>\n    <tr>\n      <th>94</th>\n      <td>M9B</td>\n      <td>43.650943</td>\n      <td>-79.554724</td>\n      <td>Etobicoke</td>\n      <td>West Deane Park, Princess Gardens, Martin Grov...</td>\n    </tr>\n    <tr>\n      <th>95</th>\n      <td>M9C</td>\n      <td>43.643515</td>\n      <td>-79.577201</td>\n      <td>Etobicoke</td>\n      <td>Eringate, Bloordale Gardens, Old Burnhamthorpe...</td>\n    </tr>\n    <tr>\n      <th>96</th>\n      <td>M9L</td>\n      <td>43.756303</td>\n      <td>-79.565963</td>\n      <td>North York</td>\n      <td>Humber Summit</td>\n    </tr>\n    <tr>\n      <th>97</th>\n      <td>M9M</td>\n      <td>43.724766</td>\n      <td>-79.532242</td>\n      <td>North York</td>\n      <td>Humberlea, Emery</td>\n    </tr>\n    <tr>\n      <th>98</th>\n      <td>M9N</td>\n      <td>43.706876</td>\n      <td>-79.518188</td>\n      <td>York</td>\n      <td>Weston</td>\n    </tr>\n    <tr>\n      <th>99</th>\n      <td>M9P</td>\n      <td>43.696319</td>\n      <td>-79.532242</td>\n      <td>Etobicoke</td>\n      <td>Westmount</td>\n    </tr>\n    <tr>\n      <th>100</th>\n      <td>M9R</td>\n      <td>43.688905</td>\n      <td>-79.554724</td>\n      <td>Etobicoke</td>\n      <td>Kingsview Village, St. Phillips, Martin Grove ...</td>\n    </tr>\n    <tr>\n      <th>101</th>\n      <td>M9V</td>\n      <td>43.739416</td>\n      <td>-79.588437</td>\n      <td>Etobicoke</td>\n      <td>South Steeles, Silverstone, Humbergate, Jamest...</td>\n    </tr>\n    <tr>\n      <th>102</th>\n      <td>M9W</td>\n      <td>43.706748</td>\n      <td>-79.594054</td>\n      <td>Etobicoke</td>\n      <td>Northwest, West Humber - Clairville</td>\n    </tr>\n  </tbody>\n</table>\n<p>103 rows \u00d7 5 columns</p>\n</div>"
                    },
                    "metadata": {}
                }
            ]
        },
        {
            "metadata": {},
            "cell_type": "code",
            "source": "df_tor = geo_merged[['Borough', 'Neighborhood', 'Post Code', 'Latitude', 'Longitude']].copy()\n\ndf_tor.head()",
            "execution_count": 34,
            "outputs": [
                {
                    "output_type": "execute_result",
                    "execution_count": 34,
                    "data": {
                        "text/plain": "       Borough                            Neighborhood Post Code   Latitude  \\\n0  Scarborough                          Malvern, Rouge       M1B  43.806686   \n1  Scarborough  Rouge Hill, Port Union, Highland Creek       M1C  43.784535   \n2  Scarborough       Guildwood, Morningside, West Hill       M1E  43.763573   \n3  Scarborough                                  Woburn       M1G  43.770992   \n4  Scarborough                               Cedarbrae       M1H  43.773136   \n\n   Longitude  \n0 -79.194353  \n1 -79.160497  \n2 -79.188711  \n3 -79.216917  \n4 -79.239476  ",
                        "text/html": "<div>\n<style scoped>\n    .dataframe tbody tr th:only-of-type {\n        vertical-align: middle;\n    }\n\n    .dataframe tbody tr th {\n        vertical-align: top;\n    }\n\n    .dataframe thead th {\n        text-align: right;\n    }\n</style>\n<table border=\"1\" class=\"dataframe\">\n  <thead>\n    <tr style=\"text-align: right;\">\n      <th></th>\n      <th>Borough</th>\n      <th>Neighborhood</th>\n      <th>Post Code</th>\n      <th>Latitude</th>\n      <th>Longitude</th>\n    </tr>\n  </thead>\n  <tbody>\n    <tr>\n      <th>0</th>\n      <td>Scarborough</td>\n      <td>Malvern, Rouge</td>\n      <td>M1B</td>\n      <td>43.806686</td>\n      <td>-79.194353</td>\n    </tr>\n    <tr>\n      <th>1</th>\n      <td>Scarborough</td>\n      <td>Rouge Hill, Port Union, Highland Creek</td>\n      <td>M1C</td>\n      <td>43.784535</td>\n      <td>-79.160497</td>\n    </tr>\n    <tr>\n      <th>2</th>\n      <td>Scarborough</td>\n      <td>Guildwood, Morningside, West Hill</td>\n      <td>M1E</td>\n      <td>43.763573</td>\n      <td>-79.188711</td>\n    </tr>\n    <tr>\n      <th>3</th>\n      <td>Scarborough</td>\n      <td>Woburn</td>\n      <td>M1G</td>\n      <td>43.770992</td>\n      <td>-79.216917</td>\n    </tr>\n    <tr>\n      <th>4</th>\n      <td>Scarborough</td>\n      <td>Cedarbrae</td>\n      <td>M1H</td>\n      <td>43.773136</td>\n      <td>-79.239476</td>\n    </tr>\n  </tbody>\n</table>\n</div>"
                    },
                    "metadata": {}
                }
            ]
        },
        {
            "metadata": {},
            "cell_type": "code",
            "source": "address = 'Toronto, Canada'\n\ngeolocator = Nominatim()\nlocation = geolocator.geocode(address)\nlatitude = location.latitude\nlongitude = location.longitude\nprint('The geograpical coordinate of the City of Toronto are {}, {}.'.format(latitude, longitude))",
            "execution_count": 35,
            "outputs": [
                {
                    "output_type": "stream",
                    "text": "The geograpical coordinate of the City of Toronto are 43.6534817, -79.3839347.\n",
                    "name": "stdout"
                },
                {
                    "output_type": "stream",
                    "text": "/opt/conda/envs/Python36/lib/python3.6/site-packages/ipykernel/__main__.py:3: DeprecationWarning: Using Nominatim with the default \"geopy/1.18.1\" `user_agent` is strongly discouraged, as it violates Nominatim's ToS https://operations.osmfoundation.org/policies/nominatim/ and may possibly cause 403 and 429 HTTP errors. Please specify a custom `user_agent` with `Nominatim(user_agent=\"my-application\")` or by overriding the default `user_agent`: `geopy.geocoders.options.default_user_agent = \"my-application\"`. In geopy 2.0 this will become an exception.\n  app.launch_new_instance()\n",
                    "name": "stderr"
                }
            ]
        },
        {
            "metadata": {},
            "cell_type": "code",
            "source": "!conda install -c conda-forge folium=0.5.0 --yes # uncomment this line if you haven't completed the Foursquare API lab\nimport folium # map rendering library",
            "execution_count": 52,
            "outputs": [
                {
                    "output_type": "stream",
                    "text": "Solving environment: done\n\n## Package Plan ##\n\n  environment location: /opt/conda/envs/Python36\n\n  added / updated specs: \n    - folium=0.5.0\n\n\nThe following packages will be downloaded:\n\n    package                    |            build\n    ---------------------------|-----------------\n    vincent-0.4.4              |             py_1          28 KB  conda-forge\n    python_abi-3.6             |          1_cp36m           4 KB  conda-forge\n    folium-0.5.0               |             py_0          45 KB  conda-forge\n    certifi-2020.6.20          |   py36h9f0ad1d_0         151 KB  conda-forge\n    branca-0.4.1               |             py_0          26 KB  conda-forge\n    altair-4.1.0               |             py_1         614 KB  conda-forge\n    openssl-1.1.1g             |       h516909a_0         2.1 MB  conda-forge\n    ca-certificates-2020.6.20  |       hecda079_0         145 KB  conda-forge\n    ------------------------------------------------------------\n                                           Total:         3.1 MB\n\nThe following NEW packages will be INSTALLED:\n\n    altair:          4.1.0-py_1        conda-forge\n    branca:          0.4.1-py_0        conda-forge\n    folium:          0.5.0-py_0        conda-forge\n    python_abi:      3.6-1_cp36m       conda-forge\n    vincent:         0.4.4-py_1        conda-forge\n\nThe following packages will be UPDATED:\n\n    certifi:         2020.6.20-py36_0              --> 2020.6.20-py36h9f0ad1d_0 conda-forge\n    openssl:         1.1.1g-h7b6447c_0             --> 1.1.1g-h516909a_0        conda-forge\n\nThe following packages will be DOWNGRADED:\n\n    ca-certificates: 2020.6.24-0                   --> 2020.6.20-hecda079_0     conda-forge\n\n\nDownloading and Extracting Packages\nvincent-0.4.4        | 28 KB     | ##################################### | 100% \npython_abi-3.6       | 4 KB      | ##################################### | 100% \nfolium-0.5.0         | 45 KB     | ##################################### | 100% \ncertifi-2020.6.20    | 151 KB    | ##################################### | 100% \nbranca-0.4.1         | 26 KB     | ##################################### | 100% \naltair-4.1.0         | 614 KB    | ##################################### | 100% \nopenssl-1.1.1g       | 2.1 MB    | ##################################### | 100% \nca-certificates-2020 | 145 KB    | ##################################### | 100% \nPreparing transaction: done\nVerifying transaction: done\nExecuting transaction: done\n",
                    "name": "stdout"
                }
            ]
        },
        {
            "metadata": {},
            "cell_type": "code",
            "source": "# create map of New York using latitude and longitude values\nmap_toronto = folium.Map(location=[latitude, longitude], zoom_start=10)\n\n# add markers to map\nfor lat, lng, borough, neighborhood in zip(df_tor['Latitude'], df_tor['Longitude'], df_tor['Borough'], df_tor['Neighbourhood']):\n    label = '{}, {}'.format(neighborhood, borough)\n    label = folium.Popup(label, parse_html=True)\n    folium.CircleMarker(\n        [lat, lng],\n        radius=3,\n        popup=label,\n        color='green',\n        fill=True,\n        fill_color='#3199cc',\n        fill_opacity=0.3,\n        parse_html=False).add_to(map_toronto)  \n    \nmap_toronto",
            "execution_count": null,
            "outputs": []
        },
        {
            "metadata": {},
            "cell_type": "code",
            "source": "",
            "execution_count": null,
            "outputs": []
        }
    ],
    "metadata": {
        "kernelspec": {
            "name": "python3",
            "display_name": "Python 3.6",
            "language": "python"
        },
        "language_info": {
            "name": "python",
            "version": "3.6.9",
            "mimetype": "text/x-python",
            "codemirror_mode": {
                "name": "ipython",
                "version": 3
            },
            "pygments_lexer": "ipython3",
            "nbconvert_exporter": "python",
            "file_extension": ".py"
        }
    },
    "nbformat": 4,
    "nbformat_minor": 1
}